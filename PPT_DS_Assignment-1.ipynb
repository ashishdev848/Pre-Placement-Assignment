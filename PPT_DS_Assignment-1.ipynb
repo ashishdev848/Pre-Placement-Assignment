{
 "cells": [
  {
   "cell_type": "code",
   "execution_count": 1,
   "id": "f80b255b-c619-4702-9a92-dc05559ae494",
   "metadata": {},
   "outputs": [],
   "source": [
    "##1. Write a Python program to reverse a string without using any built-in string reversal functions."
   ]
  },
  {
   "cell_type": "code",
   "execution_count": 3,
   "id": "c78f9c70-bdcc-4c90-8282-2c0017060372",
   "metadata": {},
   "outputs": [
    {
     "name": "stdout",
     "output_type": "stream",
     "text": [
      "Reversed string: ecneicSataD\n"
     ]
    }
   ],
   "source": [
    "\n",
    "def reverse_string(string):\n",
    "    string_list = list(string)\n",
    "    left = 0\n",
    "    right = len(string) - 1\n",
    "    while left < right:\n",
    "        string_list[left], string_list[right] = string_list[right], string_list[left]\n",
    "        left += 1\n",
    "        right -= 1\n",
    "    reversed_string = ''.join(string_list)\n",
    "    return reversed_string\n",
    "\n",
    "str=\"DataScience\"\n",
    "reversed_string = reverse_string(str)\n",
    "print(\"Reversed string:\", reversed_string)"
   ]
  },
  {
   "cell_type": "code",
   "execution_count": 4,
   "id": "a104dadb-06f2-4da4-a2f1-30f47166b8cf",
   "metadata": {},
   "outputs": [],
   "source": [
    "##2. Implement a function to check if a given string is a palindrome."
   ]
  },
  {
   "cell_type": "code",
   "execution_count": 3,
   "id": "96e364a0-15c7-48ee-9c21-6d8984b9468d",
   "metadata": {},
   "outputs": [
    {
     "data": {
      "text/plain": [
       "'palindrome'"
      ]
     },
     "execution_count": 3,
     "metadata": {},
     "output_type": "execute_result"
    }
   ],
   "source": [
    "def check_palindrom(str):\n",
    "    n=len(str)//2\n",
    "    s=len(str)\n",
    "    for i in range(n):\n",
    "        if(str[i]==str[s-i-1]):\n",
    "            return \"palindrome\"\n",
    "        else:\n",
    "            return \"not palindrome\"\n",
    "str=\"enene\"\n",
    "chek=check_palindrom(str)\n",
    "chek"
   ]
  },
  {
   "cell_type": "code",
   "execution_count": null,
   "id": "ffd49e84-10b8-4bfd-95e7-8a1f48d013cd",
   "metadata": {},
   "outputs": [],
   "source": [
    "##3. Write a program to find the largest element in a given list"
   ]
  },
  {
   "cell_type": "code",
   "execution_count": 4,
   "id": "cabc8b28-e44b-4542-9bc0-383599d960b4",
   "metadata": {},
   "outputs": [
    {
     "data": {
      "text/plain": [
       "5"
      ]
     },
     "execution_count": 4,
     "metadata": {},
     "output_type": "execute_result"
    }
   ],
   "source": [
    "def find_largest_element(lst):\n",
    "    if not lst:\n",
    "        return None\n",
    "    largest = lst[0]\n",
    "    for num in lst:\n",
    "        if num > largest:\n",
    "            largest = num\n",
    "    return largest\n",
    "li=[1,2,3,4,5]\n",
    "larger=find_largest_element(li)\n",
    "larger"
   ]
  },
  {
   "cell_type": "code",
   "execution_count": 1,
   "id": "7522979c-599e-4a0f-a239-57a67101e165",
   "metadata": {},
   "outputs": [],
   "source": [
    "##4. Implement a function to count the occurrence of each element in a list."
   ]
  },
  {
   "cell_type": "code",
   "execution_count": 2,
   "id": "4587d3dd-a773-41f5-8e22-fd66850e4447",
   "metadata": {},
   "outputs": [
    {
     "name": "stdout",
     "output_type": "stream",
     "text": [
      "Occurrences: {1: 1, 4: 3, 3: 1, 5: 1}\n"
     ]
    }
   ],
   "source": [
    "def count(lst):\n",
    "    occurr_count = {}\n",
    "    for i in lst:\n",
    "        if i in occurr_count:\n",
    "            occurr_count[i] += 1\n",
    "        else:\n",
    "            occurr_count[i] = 1\n",
    "    return occurr_count\n",
    "\n",
    "# Test the function\n",
    "list =[1,4,3,5,4,4]\n",
    "occurrence_dict =count(list)\n",
    "print(\"Occurrences:\", occurrence_dict)"
   ]
  },
  {
   "cell_type": "code",
   "execution_count": 5,
   "id": "b2b8c301-4bad-46a5-8b08-b60d751184e8",
   "metadata": {},
   "outputs": [],
   "source": [
    "##5. Write a Python program to find the second largest number in a list."
   ]
  },
  {
   "cell_type": "code",
   "execution_count": 6,
   "id": "169cac2f-de24-47c5-92b9-e2535f91def0",
   "metadata": {},
   "outputs": [
    {
     "name": "stdout",
     "output_type": "stream",
     "text": [
      "Second largest number: 5\n"
     ]
    }
   ],
   "source": [
    "def find_second_largest(lst):\n",
    "    if len(lst) < 2:\n",
    "        return None\n",
    "    largest =0\n",
    "    second_largest =0\n",
    "    for num in lst:\n",
    "        if num > largest:\n",
    "            second_largest = largest\n",
    "            largest = num\n",
    "        elif num > second_largest and num != largest:\n",
    "            second_largest = num\n",
    "    return second_largest\n",
    "input_list =[2,5,3,4,9]\n",
    "second_largest = find_second_largest(input_list)\n",
    "print(\"Second largest number:\", second_largest)"
   ]
  },
  {
   "cell_type": "code",
   "execution_count": 7,
   "id": "2378f3d6-4de9-446a-b18f-e9390ff238c4",
   "metadata": {},
   "outputs": [],
   "source": [
    "##6. Implement a function to remove duplicate elements from a list."
   ]
  },
  {
   "cell_type": "code",
   "execution_count": 10,
   "id": "1089ab64-acdd-41c6-98ba-487fbe0a17f1",
   "metadata": {},
   "outputs": [
    {
     "name": "stdout",
     "output_type": "stream",
     "text": [
      "unique list:- ([1, 2, 3, 4], [])\n"
     ]
    }
   ],
   "source": [
    "def remove_dub(n):\n",
    "    res = []\n",
    "    dublicate=[]\n",
    "    for i in n:\n",
    "        if i not in res:\n",
    "            res.append(i)\n",
    "        else:\n",
    "            n.remove(i)\n",
    "    return res,dublicate\n",
    "li=[1,2,3,2,3,4,1]\n",
    "print(\"unique list:-\",remove_dub(li))"
   ]
  },
  {
   "cell_type": "code",
   "execution_count": 11,
   "id": "376fc73c-3299-4784-a2f7-46ac88330f35",
   "metadata": {},
   "outputs": [],
   "source": [
    "##7. Write a program to calculate the factorial of a given number."
   ]
  },
  {
   "cell_type": "code",
   "execution_count": 13,
   "id": "af489923-24ad-4571-9bfd-7f8afc5ce8a0",
   "metadata": {},
   "outputs": [
    {
     "name": "stdout",
     "output_type": "stream",
     "text": [
      "6\n"
     ]
    }
   ],
   "source": [
    "def fact(n):\n",
    "    if n==0 or n==1:\n",
    "        return 1\n",
    "    else:\n",
    "        return n*fact(n-1)\n",
    "n=3\n",
    "print(fact(n))"
   ]
  },
  {
   "cell_type": "code",
   "execution_count": null,
   "id": "84d31791-3f8d-4c0d-b2cd-a30e18baaf7b",
   "metadata": {},
   "outputs": [],
   "source": [
    "##8. Implement a function to check if a given number is prime"
   ]
  },
  {
   "cell_type": "code",
   "execution_count": 14,
   "id": "099b0e21-5862-43ca-a16e-2f205f1a3f10",
   "metadata": {},
   "outputs": [
    {
     "name": "stdin",
     "output_type": "stream",
     "text": [
      "enter number for prime or not:- 12\n"
     ]
    },
    {
     "name": "stdout",
     "output_type": "stream",
     "text": [
      "(12, 'is not prime number')\n"
     ]
    }
   ],
   "source": [
    "def checkprime(num):\n",
    "    c=0\n",
    "    for i in range(1,num+1):\n",
    "        if(num%i==0):\n",
    "            c=c+1\n",
    "    if(c==2):    \n",
    "        return (num,\"is prime number\")\n",
    "    else:\n",
    "        return (num,\"is not prime number\")\n",
    "num=int(input(\"enter number for prime or not:-\"))\n",
    "print(checkprime(num))"
   ]
  },
  {
   "cell_type": "code",
   "execution_count": 15,
   "id": "35cd2470-b50e-4107-90ff-944cd5474ff3",
   "metadata": {},
   "outputs": [],
   "source": [
    "##9. Write a Python program to sort a list of integers in ascending order."
   ]
  },
  {
   "cell_type": "code",
   "execution_count": 16,
   "id": "3b031f17-13fb-406b-93b4-f372212b8390",
   "metadata": {},
   "outputs": [
    {
     "name": "stdout",
     "output_type": "stream",
     "text": [
      "Sorted list: [1, 2, 3, 5, 6, 8]\n"
     ]
    }
   ],
   "source": [
    "def sort_list(lst):\n",
    "    for i in range(len(lst)):\n",
    "        for j in range(i+1, len(lst)):\n",
    "            if lst[j] < lst[i]:\n",
    "                lst[i], lst[j] = lst[j], lst[i]\n",
    "\n",
    "input_list = [2,5,3,8,1,6]\n",
    "sort_list(input_list)\n",
    "print(\"Sorted list:\", input_list)"
   ]
  },
  {
   "cell_type": "code",
   "execution_count": 17,
   "id": "7468e731-dfa6-4ef4-b50e-f42310a989b5",
   "metadata": {},
   "outputs": [],
   "source": [
    "##10. Implement a function to find the sum of all numbers in a list."
   ]
  },
  {
   "cell_type": "code",
   "execution_count": 18,
   "id": "1d6558fa-5a87-4eb0-a47a-01155990d850",
   "metadata": {},
   "outputs": [
    {
     "name": "stdout",
     "output_type": "stream",
     "text": [
      "sum of all list item is 10\n"
     ]
    }
   ],
   "source": [
    "def sum(arr):\n",
    "    sum=0\n",
    "    for i in arr:\n",
    "        sum+=i\n",
    "    return sum\n",
    "lis=[1,2,3,4]\n",
    "print(\"sum of all list item is\",sum(lis))"
   ]
  },
  {
   "cell_type": "code",
   "execution_count": null,
   "id": "4f3f0b84-f833-43e6-987c-599c3d1afebc",
   "metadata": {},
   "outputs": [],
   "source": [
    "##11. Write a program to find the common elements between two lists."
   ]
  },
  {
   "cell_type": "code",
   "execution_count": 19,
   "id": "1d9df785-f053-4976-811d-c64cb3f4a30b",
   "metadata": {},
   "outputs": [
    {
     "name": "stdout",
     "output_type": "stream",
     "text": [
      "[2, 3, 5]\n"
     ]
    }
   ],
   "source": [
    "\n",
    "def common_elements(list1, list2):\n",
    "    common_elements = []\n",
    "    for element in list1:\n",
    "        if element in list2 and element not in common_elements:\n",
    "            common_elements.append(element)\n",
    "    return common_elements\n",
    "li1=[1,2,3,4,5]\n",
    "li2=[8,9,3,2,5]\n",
    "print(common_elements(li1,li2))"
   ]
  },
  {
   "cell_type": "code",
   "execution_count": 20,
   "id": "0dd7d68a-0a20-4745-a8c1-bc4c2fcc84e3",
   "metadata": {},
   "outputs": [],
   "source": [
    "##12. Implement a function to check if a given string is an anagram of another string."
   ]
  },
  {
   "cell_type": "code",
   "execution_count": 21,
   "id": "958d64d8-2946-44a7-9e0d-8dc31ee1c3e7",
   "metadata": {},
   "outputs": [
    {
     "name": "stdout",
     "output_type": "stream",
     "text": [
      "The strings are anagrams.\n"
     ]
    }
   ],
   "source": [
    "def is_anagram(str1, str2):\n",
    "    str1 = str1.lower()\n",
    "    str2 = str2.lower()\n",
    "\n",
    "    # Remove whitespace and punctuation\n",
    "    str1 = ''.join(ch for ch in str1 if ch.isalnum())\n",
    "    str2 = ''.join(ch for ch in str2 if ch.isalnum())\n",
    "\n",
    "    if len(str1) != len(str2):\n",
    "        return False\n",
    "\n",
    "    char_count = {}\n",
    "    for char in str1:\n",
    "        if char in char_count:\n",
    "            char_count[char] += 1\n",
    "        else:\n",
    "            char_count[char] = 1\n",
    "\n",
    "    for char in str2:\n",
    "        if char in char_count:\n",
    "            char_count[char] -= 1\n",
    "        else:\n",
    "            return False\n",
    "\n",
    "    return all(count == 0 for count in char_count.values())\n",
    "\n",
    "# Test the function\n",
    "input_str1 = \"listen\"\n",
    "input_str2 = \"silent\"\n",
    "\n",
    "if is_anagram(input_str1, input_str2):\n",
    "    print(\"The strings are anagrams.\")\n",
    "else:\n",
    "    print(\"The strings are not anagrams.\")\n"
   ]
  },
  {
   "cell_type": "code",
   "execution_count": 22,
   "id": "4f92a647-c1e8-46bd-9097-ee46c63a3f1c",
   "metadata": {},
   "outputs": [],
   "source": [
    "##13. Write a Python program to generate all permutations of a given string."
   ]
  },
  {
   "cell_type": "code",
   "execution_count": 24,
   "id": "896cc8a5-2f19-40ad-8cf9-7e76b5071898",
   "metadata": {},
   "outputs": [
    {
     "name": "stdin",
     "output_type": "stream",
     "text": [
      "Enter a string:  you\n"
     ]
    },
    {
     "name": "stdout",
     "output_type": "stream",
     "text": [
      "Permutations of you :\n",
      "you\n",
      "yuo\n",
      "oyu\n",
      "ouy\n",
      "uyo\n",
      "uoy\n"
     ]
    }
   ],
   "source": [
    "def generate_permutations(string):\n",
    "    # Base case: If the string is empty, return an empty list\n",
    "    if len(string) == 0:\n",
    "        return []\n",
    "\n",
    "    # Base case: If the string has only one character, return the string as a single permutation\n",
    "    if len(string) == 1:\n",
    "        return [string]\n",
    "\n",
    "    # Recursive case:\n",
    "    permutations = []  # List to store permutations\n",
    "\n",
    "    # Iterate through each character in the string\n",
    "    for i in range(len(string)):\n",
    "        # Extract the current character\n",
    "        current_char = string[i]\n",
    "\n",
    "        # Generate permutations of the remaining characters\n",
    "        remaining_chars = string[:i] + string[i+1:]\n",
    "        sub_permutations = generate_permutations(remaining_chars)\n",
    "\n",
    "        # Append the current character to each permutation of the remaining character\n",
    "        for sub_permutation in sub_permutations:\n",
    "            permutations.append(current_char + sub_permutation)\n",
    "\n",
    "    return permutations\n",
    "\n",
    "# Test the program\n",
    "input_string = input(\"Enter a string: \")\n",
    "permutations = generate_permutations(input_string)\n",
    "print(\"Permutations of\", input_string, \":\")\n",
    "for permutation in permutations:\n",
    "    print(permutation)\n"
   ]
  },
  {
   "cell_type": "code",
   "execution_count": 25,
   "id": "6119e145-a46a-4f93-ab00-9a445a6c810a",
   "metadata": {},
   "outputs": [],
   "source": [
    "##14. Implement a function to calculate the Fibonacci sequence up to a given number of terms"
   ]
  },
  {
   "cell_type": "code",
   "execution_count": 26,
   "id": "95b6b629-4a35-40bf-a746-f85ce48df275",
   "metadata": {},
   "outputs": [
    {
     "name": "stdin",
     "output_type": "stream",
     "text": [
      "Enter the number of terms:  10\n"
     ]
    },
    {
     "name": "stdout",
     "output_type": "stream",
     "text": [
      "Fibonacci sequence up to 10 terms:\n",
      "[0, 1, 1, 2, 3, 5, 8, 13, 21, 34]\n"
     ]
    }
   ],
   "source": [
    "def fibonacci_sequence(n):\n",
    "    sequence = []\n",
    "\n",
    "    if n >= 1:\n",
    "        sequence.append(0)\n",
    "    if n >= 2:\n",
    "        sequence.append(1)\n",
    "\n",
    "    for i in range(2, n):\n",
    "        next_term = sequence[i-1] + sequence[i-2]\n",
    "        sequence.append(next_term)\n",
    "\n",
    "    return sequence\n",
    "input_terms = int(input(\"Enter the number of terms: \"))\n",
    "fibonacci_seq = fibonacci_sequence(input_terms)\n",
    "print(\"Fibonacci sequence up to\", input_terms, \"terms:\")\n",
    "print(fibonacci_seq)"
   ]
  },
  {
   "cell_type": "code",
   "execution_count": 27,
   "id": "967349e2-ff52-4114-a0f6-b1c409d73a80",
   "metadata": {},
   "outputs": [],
   "source": [
    "##15. Write a program to find the median of a list of numbers."
   ]
  },
  {
   "cell_type": "code",
   "execution_count": 28,
   "id": "153bd919-882e-4dca-8cc8-3b736cd4854d",
   "metadata": {},
   "outputs": [
    {
     "name": "stdout",
     "output_type": "stream",
     "text": [
      "Median: 3.5\n"
     ]
    }
   ],
   "source": [
    "def find_median(numbers):\n",
    "    sorted_numbers = sorted(numbers)\n",
    "    length = len(sorted_numbers)\n",
    "    \n",
    "    if length % 2 == 1:\n",
    "        median = sorted_numbers[length // 2]\n",
    "    else:\n",
    "        mid_right = length // 2\n",
    "        mid_left = mid_right - 1\n",
    "        median = (sorted_numbers[mid_left] + sorted_numbers[mid_right]) / 2\n",
    "    \n",
    "    return median\n",
    "\n",
    "# Test the program\n",
    "input_numbers =[2,1,3,4,5,6]\n",
    "median = find_median(input_numbers)\n",
    "print(\"Median:\", median)"
   ]
  },
  {
   "cell_type": "code",
   "execution_count": 29,
   "id": "4705f4e6-ae90-49c9-a474-a7cb280af717",
   "metadata": {},
   "outputs": [],
   "source": [
    "##16. Implement a function to check if a given list is sorted in non-decreasing order"
   ]
  },
  {
   "cell_type": "code",
   "execution_count": 30,
   "id": "5da57075-6c45-4bc0-9a9e-3753552d2e01",
   "metadata": {},
   "outputs": [
    {
     "name": "stdin",
     "output_type": "stream",
     "text": [
      "Enter a list of numbers (space-separated):  10\n"
     ]
    },
    {
     "name": "stdout",
     "output_type": "stream",
     "text": [
      "The list is sorted in non-decreasing order.\n"
     ]
    }
   ],
   "source": [
    "def is_sorted(lst):\n",
    "    n = len(lst)\n",
    "    for i in range(1, n):\n",
    "        if lst[i] < lst[i-1]:\n",
    "            return False\n",
    "    return True\n",
    "\n",
    "# Test the function\n",
    "input_list = input(\"Enter a list of numbers (space-separated): \").split()\n",
    "numbers = [int(num) for num in input_list]\n",
    "if is_sorted(numbers):\n",
    "    print(\"The list is sorted in non-decreasing order.\")\n",
    "else:\n",
    "    print(\"The list is not sorted in non-decreasing order.\")\n"
   ]
  },
  {
   "cell_type": "code",
   "execution_count": 31,
   "id": "57ffba20-223c-4b57-a5d0-d69f045a113e",
   "metadata": {},
   "outputs": [],
   "source": [
    "##17. Write a Python program to find the intersection of two lists."
   ]
  },
  {
   "cell_type": "code",
   "execution_count": null,
   "id": "1f952f90-3fc5-4956-9bbd-15f881cc2603",
   "metadata": {},
   "outputs": [],
   "source": [
    "def find_intersection(list1, list2):\n",
    "    set1 = set(list1)\n",
    "    set2 = set(list2)\n",
    "    intersection = set1.intersection(set2)\n",
    "    return list(intersection)\n",
    "\n",
    "# Test the program\n",
    "input_list1 = input(\"Enter the first list (space-separated): \").split()\n",
    "input_list2 = input(\"Enter the second list (space-separated): \").split()\n",
    "\n",
    "list1 = [int(num) for num in input_list1]\n",
    "list2 = [int(num) for num in input_list2]\n",
    "\n",
    "intersection = find_intersection(list1, list2)\n",
    "print(\"Intersection of the two lists:\", intersection)"
   ]
  },
  {
   "cell_type": "code",
   "execution_count": null,
   "id": "6ce4169f-b7d2-4b9b-b147-d02a03f33288",
   "metadata": {},
   "outputs": [],
   "source": [
    "##18. Implement a function to find the maximum subarray sum in a given list."
   ]
  },
  {
   "cell_type": "code",
   "execution_count": null,
   "id": "c4de1adc-e182-4fbb-b10f-1431c99d6582",
   "metadata": {},
   "outputs": [],
   "source": [
    "def maxsubarray(arr):\n",
    "    l=[]\n",
    "    sum=0\n",
    "    maxi=arr[0]\n",
    "    for i in range(len(arr)):\n",
    "        #currrnt sub array sum\n",
    "        sum+=arr[i]\n",
    "        if(sum>maxi):\n",
    "            maxi=sum\n",
    "        if(sum<0):\n",
    "            sum=0\n",
    "    return maxi\n",
    "arr=[-2,1,-3,4,-1,2,1,-5,4]\n",
    "max=maxsubarray(arr)\n",
    "print(max)"
   ]
  },
  {
   "cell_type": "code",
   "execution_count": null,
   "id": "db7d5207-7f65-4ea5-a4d8-08da3b69ff80",
   "metadata": {},
   "outputs": [],
   "source": [
    "##19. Write a program to remove all vowels from a given string."
   ]
  },
  {
   "cell_type": "code",
   "execution_count": null,
   "id": "bd3b09ee-be96-4d0d-9b1c-f8c7362ea7d2",
   "metadata": {},
   "outputs": [],
   "source": [
    "def remove_vowels(string):\n",
    "    vowels = \"aeiouAEIOU\"\n",
    "    filtered_string = \"\"\n",
    "    for char in string:\n",
    "        if char not in vowels:\n",
    "            filtered_string += char\n",
    "    return filtered_string\n",
    "\n",
    "# Test the program\n",
    "input_string = input(\"Enter a string: \")\n",
    "filtered_string = remove_vowels(input_string)\n",
    "print(\"String with vowels removed:\", filtered_string)"
   ]
  },
  {
   "cell_type": "code",
   "execution_count": null,
   "id": "100dc1ea-9db8-4ad4-bbd2-a31d3ca1ea6a",
   "metadata": {},
   "outputs": [],
   "source": [
    "##20. Implement a function to reverse the order of words in a given sentence."
   ]
  },
  {
   "cell_type": "code",
   "execution_count": null,
   "id": "40f30bed-3e66-435e-b4f5-6f9c9e67f40b",
   "metadata": {},
   "outputs": [],
   "source": [
    "def reverse_sentence(sentence):\n",
    "    words = sentence.split()  # Split sentence into words\n",
    "    reversed_words = words[::-1]  # Reverse the order of words\n",
    "    reversed_sentence = ' '.join(reversed_words)  # Join words back into a sentence\n",
    "    return reversed_sentence\n",
    "\n",
    "# Test the function\n",
    "input_sentence = input(\"Enter a sentence: \")\n",
    "reversed_sentence = reverse_sentence(input_sentence)\n",
    "print(\"Reversed sentence:\", reversed_sentence)"
   ]
  }
 ],
 "metadata": {
  "kernelspec": {
   "display_name": "Python 3 (ipykernel)",
   "language": "python",
   "name": "python3"
  },
  "language_info": {
   "codemirror_mode": {
    "name": "ipython",
    "version": 3
   },
   "file_extension": ".py",
   "mimetype": "text/x-python",
   "name": "python",
   "nbconvert_exporter": "python",
   "pygments_lexer": "ipython3",
   "version": "3.10.8"
  }
 },
 "nbformat": 4,
 "nbformat_minor": 5
}
