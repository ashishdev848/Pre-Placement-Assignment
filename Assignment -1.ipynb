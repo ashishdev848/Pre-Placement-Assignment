{
 "cells": [
  {
   "cell_type": "markdown",
   "id": "16ed8436-4180-4299-b94d-116fd6006a1b",
   "metadata": {},
   "source": [
    "## Que-1"
   ]
  },
  {
   "cell_type": "code",
   "execution_count": 1,
   "id": "9647c338-a129-4bf4-90fb-6b66e56222a3",
   "metadata": {},
   "outputs": [
    {
     "name": "stdout",
     "output_type": "stream",
     "text": [
      "[0, 1]\n"
     ]
    }
   ],
   "source": [
    "\n",
    "def twoSum(nums, target):\n",
    "    # Create a dictionary to store the complement of each number\n",
    "    complement_dict = {}\n",
    "    \n",
    "    # Iterate through the array\n",
    "    for i, num in enumerate(nums):\n",
    "        complement = target - num\n",
    "        \n",
    "        # Check if the complement exists in the dictionary\n",
    "        if complement in complement_dict:\n",
    "            # Return the indices of the two numbers\n",
    "            return [complement_dict[complement], i]\n",
    "        \n",
    "        # Store the current number and its index in the dictionary\n",
    "        complement_dict[num] = i\n",
    "    \n",
    "    # If no solution is found, return an empty list or raise an exception\n",
    "    return []\n",
    "\n",
    "# Test the function\n",
    "nums = [2, 7, 11, 15]\n",
    "target = 9\n",
    "result = twoSum(nums, target)\n",
    "print(result)"
   ]
  },
  {
   "cell_type": "markdown",
   "id": "d2e045ef-4909-4912-a0ba-6895272ba97c",
   "metadata": {},
   "source": [
    "## Que-2"
   ]
  },
  {
   "cell_type": "code",
   "execution_count": 1,
   "id": "4501263c-3966-4df0-ad9d-ddaab7a75291",
   "metadata": {},
   "outputs": [
    {
     "name": "stdout",
     "output_type": "stream",
     "text": [
      "k = 2\n",
      "nums = [2, 2]\n"
     ]
    }
   ],
   "source": [
    "def removeElement(nums, val):\n",
    "    # Initialize two pointers\n",
    "    left = 0\n",
    "    right = len(nums) - 1\n",
    "    \n",
    "    # Iterate until the pointers meet or cross each other\n",
    "    while left <= right:\n",
    "        # Move the right pointer towards the left until a non-val element is found\n",
    "        while left <= right and nums[right] == val:\n",
    "            right -= 1\n",
    "        \n",
    "        # Check if the left pointer is still valid\n",
    "        if left <= right:\n",
    "            # If the left pointer element is equal to val, swap it with the element at the right pointer\n",
    "            if nums[left] == val:\n",
    "                nums[left], nums[right] = nums[right], nums[left]\n",
    "            # Move the left pointer to the next element\n",
    "            left += 1\n",
    "    \n",
    "    # The left pointer now represents the number of elements that are not equal to val\n",
    "    return left\n",
    "\n",
    "# Test the function\n",
    "nums = [3, 2, 2, 3]\n",
    "val = 3\n",
    "k = removeElement(nums, val)\n",
    "print(\"k =\", k)\n",
    "print(\"nums =\", nums[:k])\n",
    "k = 2\n",
    "nums = [2, 2]\n"
   ]
  },
  {
   "cell_type": "markdown",
   "id": "d3d0c0ae-ad31-4f10-b6a1-f21bfa2370b4",
   "metadata": {},
   "source": [
    "## Que-3"
   ]
  },
  {
   "cell_type": "code",
   "execution_count": 3,
   "id": "20220770-072b-4244-b3fd-1f276668420e",
   "metadata": {},
   "outputs": [
    {
     "name": "stdout",
     "output_type": "stream",
     "text": [
      "2\n"
     ]
    }
   ],
   "source": [
    "def searchInsert(nums, target):\n",
    "    left = 0\n",
    "    right = len(nums) - 1\n",
    "    \n",
    "    while left <= right:\n",
    "        mid = left + (right - left) // 2\n",
    "        \n",
    "        if nums[mid] == target:\n",
    "            return mid\n",
    "        \n",
    "        if nums[mid] < target:\n",
    "            left = mid + 1\n",
    "        else:\n",
    "            right = mid - 1\n",
    "    \n",
    "    return left\n",
    "\n",
    "# Test the function\n",
    "nums = [1, 3, 5, 6]\n",
    "target = 5\n",
    "index = searchInsert(nums, target)\n",
    "print(index)"
   ]
  },
  {
   "cell_type": "markdown",
   "id": "73a2b395-4db3-42df-94eb-77076b7efe7d",
   "metadata": {},
   "source": [
    "## Que-4"
   ]
  },
  {
   "cell_type": "code",
   "execution_count": 4,
   "id": "cf901699-d130-4545-968b-3e340ee15ccd",
   "metadata": {},
   "outputs": [
    {
     "name": "stdout",
     "output_type": "stream",
     "text": [
      "[1, 2, 4]\n"
     ]
    }
   ],
   "source": [
    "def plusOne(digits):\n",
    "    n = len(digits)\n",
    "    carry = 1\n",
    "    \n",
    "    for i in range(n - 1, -1, -1):\n",
    "        digits[i] += carry\n",
    "        \n",
    "        if digits[i] <= 9:\n",
    "            carry = 0\n",
    "            break\n",
    "        \n",
    "        digits[i] = 0\n",
    "    \n",
    "    if carry == 1:\n",
    "        digits.insert(0, 1)\n",
    "    \n",
    "    return digits\n",
    "\n",
    "# Test the function\n",
    "digits = [1, 2, 3]\n",
    "result = plusOne(digits)\n",
    "print(result)"
   ]
  },
  {
   "cell_type": "markdown",
   "id": "f94bbb10-8c4e-4af7-bbf0-4bcdc9eaef20",
   "metadata": {},
   "source": [
    "## Que-5"
   ]
  },
  {
   "cell_type": "code",
   "execution_count": 5,
   "id": "f5a2d6ff-c1ce-4f9a-b554-5e0850c8cf4c",
   "metadata": {},
   "outputs": [
    {
     "name": "stdout",
     "output_type": "stream",
     "text": [
      "[1, 2, 2, 3, 5, 6]\n"
     ]
    },
    {
     "data": {
      "text/plain": [
       "[1, 2, 2, 3, 5, 6]"
      ]
     },
     "execution_count": 5,
     "metadata": {},
     "output_type": "execute_result"
    }
   ],
   "source": [
    "def merge(nums1, m, nums2, n):\n",
    "    # Initialize two pointers for nums1, nums2, and the merged array\n",
    "    p1 = m - 1\n",
    "    p2 = n - 1\n",
    "    p = m + n - 1\n",
    "    \n",
    "    # Iterate until both arrays have been completely merged\n",
    "    while p1 >= 0 and p2 >= 0:\n",
    "        # Compare the elements from both arrays and place the larger element in nums1\n",
    "        if nums1[p1] > nums2[p2]:\n",
    "            nums1[p] = nums1[p1]\n",
    "            p1 -= 1\n",
    "        else:\n",
    "            nums1[p] = nums2[p2]\n",
    "            p2 -= 1\n",
    "        p -= 1\n",
    "    \n",
    "    # If there are remaining elements in nums2, copy them to nums1\n",
    "    while p2 >= 0:\n",
    "        nums1[p] = nums2[p2]\n",
    "        p2 -= 1\n",
    "        p -= 1\n",
    "\n",
    "# Test the function\n",
    "nums1 = [1, 2, 3, 0, 0, 0]\n",
    "m = 3\n",
    "nums2 = [2, 5, 6]\n",
    "n = 3\n",
    "\n",
    "merge(nums1, m, nums2, n)\n",
    "print(nums1)\n",
    "[1, 2, 2, 3, 5, 6]\n"
   ]
  },
  {
   "cell_type": "markdown",
   "id": "5e26ab80-2d34-4ed1-98eb-cffa58a31582",
   "metadata": {},
   "source": [
    "## Que-6"
   ]
  },
  {
   "cell_type": "code",
   "execution_count": 6,
   "id": "96930811-dad5-4e9a-9a13-e5c2d4e77622",
   "metadata": {},
   "outputs": [
    {
     "name": "stdout",
     "output_type": "stream",
     "text": [
      "false\n"
     ]
    }
   ],
   "source": [
    "arr1=[1,2,3,1]\n",
    "n=len(arr1)\n",
    "count=0\n",
    "for i in range(0,n-1):\n",
    "    if(arr1[i]==arr1[i+1]):\n",
    "        count+=1\n",
    "        break\n",
    "        \n",
    "if(count==1):\n",
    "    print(\"true\")\n",
    "else:\n",
    "    print(\"false\")"
   ]
  },
  {
   "cell_type": "markdown",
   "id": "fc936a3e-909a-41bc-8465-410fffbdf21c",
   "metadata": {},
   "source": [
    "## Que-7"
   ]
  },
  {
   "cell_type": "code",
   "execution_count": 7,
   "id": "b06f257f-42d1-4296-8984-4a1d62052554",
   "metadata": {},
   "outputs": [
    {
     "name": "stdout",
     "output_type": "stream",
     "text": [
      "[1, 3, 12, 0, 0]\n"
     ]
    }
   ],
   "source": [
    "def moveZeroes(nums):\n",
    "    left = 0\n",
    "    right = 0\n",
    "    \n",
    "    # Move all non-zero elements to the left side of the array\n",
    "    while right < len(nums):\n",
    "        if nums[right] != 0:\n",
    "            nums[left] = nums[right]\n",
    "            left += 1\n",
    "        right += 1\n",
    "    \n",
    "    # Fill the remaining elements with zeros\n",
    "    while left < len(nums):\n",
    "        nums[left] = 0\n",
    "        left += 1\n",
    "\n",
    "# Test the function\n",
    "nums = [0, 1, 0, 3, 12]\n",
    "moveZeroes(nums)\n",
    "print(nums)"
   ]
  },
  {
   "cell_type": "markdown",
   "id": "10af252d-b7f1-4282-ad52-ef5c3ed6f921",
   "metadata": {},
   "source": [
    "## Que-8"
   ]
  },
  {
   "cell_type": "code",
   "execution_count": 8,
   "id": "a2f3dd70-55be-482e-ae58-6fde199698bc",
   "metadata": {},
   "outputs": [
    {
     "name": "stdout",
     "output_type": "stream",
     "text": [
      "[2, 3]\n"
     ]
    }
   ],
   "source": [
    "def findErrorNums(nums):\n",
    "    n = len(nums)\n",
    "    num_set = set()\n",
    "    duplicate = -1\n",
    "    \n",
    "    # Find the duplicate number\n",
    "    for num in nums:\n",
    "        if num in num_set:\n",
    "            duplicate = num\n",
    "        else:\n",
    "            num_set.add(num)\n",
    "    \n",
    "    # Find the missing number\n",
    "    missing = -1\n",
    "    for i in range(1, n + 1):\n",
    "        if i not in num_set:\n",
    "            missing = i\n",
    "            break\n",
    "    \n",
    "    return [duplicate, missing]\n",
    "\n",
    "# Test the function\n",
    "nums = [1, 2, 2, 4]\n",
    "result = findErrorNums(nums)\n",
    "print(result)"
   ]
  },
  {
   "cell_type": "code",
   "execution_count": null,
   "id": "8d90ec9b-a6f1-4cd4-9c7b-2a7837f6911c",
   "metadata": {},
   "outputs": [],
   "source": []
  }
 ],
 "metadata": {
  "kernelspec": {
   "display_name": "Python 3 (ipykernel)",
   "language": "python",
   "name": "python3"
  },
  "language_info": {
   "codemirror_mode": {
    "name": "ipython",
    "version": 3
   },
   "file_extension": ".py",
   "mimetype": "text/x-python",
   "name": "python",
   "nbconvert_exporter": "python",
   "pygments_lexer": "ipython3",
   "version": "3.10.8"
  }
 },
 "nbformat": 4,
 "nbformat_minor": 5
}
