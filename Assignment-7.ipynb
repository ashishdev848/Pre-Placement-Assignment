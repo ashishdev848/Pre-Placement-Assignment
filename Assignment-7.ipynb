{
 "cells": [
  {
   "cell_type": "code",
   "execution_count": 1,
   "id": "9c25ffc1-2a28-4605-b80f-b56829bf2a99",
   "metadata": {},
   "outputs": [],
   "source": [
    "#Que-1\n",
    "\n",
    "def is_isomorphic(s, t):\n",
    "    if len(s) != len(t):\n",
    "        return False\n",
    "\n",
    "    s_to_t = {}\n",
    "    t_to_s = {}\n",
    "\n",
    "    for char_s, char_t in zip(s, t):\n",
    "        if char_s in s_to_t:\n",
    "            if s_to_t[char_s] != char_t:\n",
    "                return False\n",
    "        else:\n",
    "            if char_t in t_to_s:\n",
    "                return False\n",
    "            s_to_t[char_s] = char_t\n",
    "            t_to_s[char_t] = char_s\n",
    "\n",
    "    return True\n"
   ]
  },
  {
   "cell_type": "code",
   "execution_count": 2,
   "id": "072b5d40-5dc8-4bb1-8e4b-c5134806fa9c",
   "metadata": {},
   "outputs": [],
   "source": [
    "#2\n",
    "def is_strobogrammatic(num):\n",
    "    left, right = 0, len(num) - 1\n",
    "    while left <= right:\n",
    "        if (num[left], num[right]) not in [('0', '0'), ('1', '1'), ('6', '9'), ('8', '8'), ('9', '6')]:\n",
    "            return False\n",
    "        left += 1\n",
    "        right -= 1\n",
    "    return True"
   ]
  },
  {
   "cell_type": "code",
   "execution_count": null,
   "id": "232e24a4-a058-43f8-bd6a-9b8defa4b3e4",
   "metadata": {},
   "outputs": [],
   "source": [
    "#3\n",
    "def addStrings(num1, num2):\n",
    "    result = \"\"\n",
    "    i = len(num1) - 1\n",
    "    j = len(num2) - 1\n",
    "    carry = 0\n",
    "\n",
    "    while i >= 0 or j >= 0 or carry != 0:\n",
    "        digit1 = int(num1[i]) if i >= 0 else 0\n",
    "        digit2 = int(num2[j]) if j >= 0 else 0\n",
    "        total = digit1 + digit2 + carry\n",
    "        carry = total // 10\n",
    "        result = str(total % 10) + result\n",
    "        i -= 1\n",
    "        j -= 1\n",
    "\n",
    "    return result"
   ]
  },
  {
   "cell_type": "code",
   "execution_count": null,
   "id": "fb1f8cdd-83f4-472f-87ff-401072f36e34",
   "metadata": {},
   "outputs": [],
   "source": [
    "#4\n",
    "def reverseWords(s):\n",
    "    words = s.split()\n",
    "    reversed_words = [word[::-1] for word in words]\n",
    "    reversed_sentence = ' '.join(reversed_words)\n",
    "    return reversed_sentence"
   ]
  },
  {
   "cell_type": "code",
   "execution_count": null,
   "id": "17d506f8-aeda-42c6-adf6-d61aa6189893",
   "metadata": {},
   "outputs": [],
   "source": [
    "#5\n",
    "def reverseStr(s, k):\n",
    "    s = list(s)\n",
    "    n = len(s)\n",
    "\n",
    "    for i in range(0, n, 2 * k):\n",
    "        left = i\n",
    "        right = min(i + k - 1, n - 1)\n",
    "\n",
    "        while left < right:\n",
    "            s[left], s[right] = s[right], s[left]\n",
    "            left += 1\n",
    "            right -= 1\n",
    "\n",
    "    return ''.join(s)"
   ]
  },
  {
   "cell_type": "code",
   "execution_count": null,
   "id": "6ad4370c-4542-4447-b9a1-bca403077ead",
   "metadata": {},
   "outputs": [],
   "source": [
    "#6\n",
    "\n",
    "def rotateString(s, goal):\n",
    "    s2 = s + s\n",
    "    return goal in s2\n"
   ]
  },
  {
   "cell_type": "code",
   "execution_count": null,
   "id": "d1b37588-0ea0-42ec-858d-1be815c4ff9a",
   "metadata": {},
   "outputs": [],
   "source": [
    "#7\n",
    "def process_string(s):\n",
    "    stack = []\n",
    "    for ch in s:\n",
    "        if ch != '#':\n",
    "            stack.append(ch)\n",
    "        elif stack:\n",
    "            stack.pop()\n",
    "    return ''.join(stack)\n",
    "\n",
    "\n",
    "\n",
    "def backspaceCompare(s, t):\n",
    "    return process_string(s) == process_string(t)"
   ]
  },
  {
   "cell_type": "code",
   "execution_count": null,
   "id": "f7297682-ab13-48f2-9990-c45ac608dd22",
   "metadata": {},
   "outputs": [],
   "source": [
    "# Que-\n",
    "def checkStraightLine(coordinates):\n",
    "    if len(coordinates) <= 2:\n",
    "        return True\n",
    "\n",
    "    p1, p2 = coordinates[0], coordinates[1]\n",
    "    slope = (p2[1] - p1[1]) / (p2[0] - p1[0])\n",
    "\n",
    "    for i in range(2, len(coordinates)):\n",
    "        current_slope = (coordinates[i][1] - p1[1]) / (coordinates[i][0] - p1[0])\n",
    "        if current_slope != slope:\n",
    "            return False\n",
    "\n",
    "    return True"
   ]
  },
  {
   "cell_type": "code",
   "execution_count": null,
   "id": "2639b388-77ee-41f2-829e-da89fdcb665b",
   "metadata": {},
   "outputs": [],
   "source": []
  },
  {
   "cell_type": "code",
   "execution_count": null,
   "id": "ece4b63b-ec06-4937-bed8-ef6d673d6241",
   "metadata": {},
   "outputs": [],
   "source": []
  }
 ],
 "metadata": {
  "kernelspec": {
   "display_name": "Python 3 (ipykernel)",
   "language": "python",
   "name": "python3"
  },
  "language_info": {
   "codemirror_mode": {
    "name": "ipython",
    "version": 3
   },
   "file_extension": ".py",
   "mimetype": "text/x-python",
   "name": "python",
   "nbconvert_exporter": "python",
   "pygments_lexer": "ipython3",
   "version": "3.10.8"
  }
 },
 "nbformat": 4,
 "nbformat_minor": 5
}
