{
 "cells": [
  {
   "cell_type": "code",
   "execution_count": 1,
   "id": "24123bbf-6350-419a-bdab-ef950d834035",
   "metadata": {},
   "outputs": [
    {
     "name": "stdout",
     "output_type": "stream",
     "text": [
      "231\n"
     ]
    }
   ],
   "source": [
    "#Question no1\n",
    "def minimumDeleteSum(s1, s2):\n",
    "    def helper(i, j):\n",
    "        if i == len(s1) and j == len(s2):\n",
    "            return 0\n",
    "\n",
    "        if i == len(s1):\n",
    "            return sum(ord(ch) for ch in s2[j:])\n",
    "\n",
    "        if j == len(s2):\n",
    "            return sum(ord(ch) for ch in s1[i:])\n",
    "\n",
    "        if s1[i] == s2[j]:\n",
    "            return helper(i + 1, j + 1)\n",
    "\n",
    "        return min(ord(s1[i]) + helper(i + 1, j), ord(s2[j]) + helper(i, j + 1))\n",
    "\n",
    "    return helper(0, 0)\n",
    "s1 = \"sea\"\n",
    "s2 = \"eat\"\n",
    "result = minimumDeleteSum(s1, s2)\n",
    "print(result)\n"
   ]
  },
  {
   "cell_type": "code",
   "execution_count": 2,
   "id": "828d8a98-bf3d-4ff0-91b0-92d96a980093",
   "metadata": {},
   "outputs": [
    {
     "name": "stdout",
     "output_type": "stream",
     "text": [
      "True\n"
     ]
    }
   ],
   "source": [
    "#Question no2\n",
    "def isValid(s):\n",
    "    stack = []\n",
    "    star_stack = []\n",
    "\n",
    "    for ch in s:\n",
    "        if ch == '(':\n",
    "            stack.append(ch)\n",
    "        elif ch == '*':\n",
    "            star_stack.append(ch)\n",
    "        else:\n",
    "            if stack:\n",
    "                stack.pop()\n",
    "            elif star_stack:\n",
    "                star_stack.pop()\n",
    "            else:\n",
    "                return False\n",
    "\n",
    "    while stack and star_stack:\n",
    "        if stack[-1] > star_stack[-1]:\n",
    "            return False\n",
    "        stack.pop()\n",
    "        star_stack.pop()\n",
    "\n",
    "    return len(stack) == 0\n",
    "\n",
    "s = \"()\"\n",
    "result = isValid(s)\n",
    "print(result)\n"
   ]
  },
  {
   "cell_type": "code",
   "execution_count": 4,
   "id": "8afb5abd-e1f2-419a-831c-3dc331bc0567",
   "metadata": {},
   "outputs": [
    {
     "name": "stdout",
     "output_type": "stream",
     "text": [
      "2\n"
     ]
    }
   ],
   "source": [
    "#Question no3\n",
    "def minDistance(word1, word2):\n",
    "    m, n = len(word1), len(word2)\n",
    "\n",
    "    # Create a table to store the minimum steps\n",
    "    # for making substrings of word1 and word2 the same\n",
    "    dp = [[0] * (n + 1) for _ in range(m + 1)]\n",
    "\n",
    "    # Fill the table from bottom-up\n",
    "    for i in range(m - 1, -1, -1):\n",
    "        dp[i][n] = dp[i+1][n] + 1\n",
    "\n",
    "    for j in range(n - 1, -1, -1):\n",
    "        dp[m][j] = dp[m][j+1] + 1\n",
    "\n",
    "    # Calculate the minimum steps for each subproblem\n",
    "    for i in range(m - 1, -1, -1):\n",
    "        for j in range(n - 1, -1, -1):\n",
    "            if word1[i] == word2[j]:\n",
    "                dp[i][j] = dp[i+1][j+1]\n",
    "            else:\n",
    "                dp[i][j] = min(dp[i+1][j] + 1, dp[i][j+1] + 1)\n",
    "\n",
    "    return dp[0][0]\n",
    "word1 = \"sea\"\n",
    "word2 = \"eat\"\n",
    "result = minDistance(word1, word2)\n",
    "print(result)"
   ]
  },
  {
   "cell_type": "code",
   "execution_count": 5,
   "id": "eef5d521-404b-41b6-86b2-53884ee4bab9",
   "metadata": {},
   "outputs": [
    {
     "name": "stdout",
     "output_type": "stream",
     "text": [
      "6\n",
      "['a', '2', 'b', '2', 'c', '3']\n"
     ]
    }
   ],
   "source": [
    "#Question no5\n",
    "def compress(chars):\n",
    "    read = write = 0\n",
    "    count = 1\n",
    "\n",
    "    for i in range(1, len(chars) + 1):\n",
    "        if i < len(chars) and chars[i] == chars[i-1]:\n",
    "            count += 1\n",
    "        else:\n",
    "            chars[write] = chars[read]\n",
    "            write += 1\n",
    "            if count > 1:\n",
    "                count_str = str(count)\n",
    "                for j in range(len(count_str)):\n",
    "                    chars[write] = count_str[j]\n",
    "                    write += 1\n",
    "            count = 1\n",
    "            read = i\n",
    "\n",
    "    return write\n",
    "chars = [\"a\", \"a\", \"b\", \"b\", \"c\", \"c\", \"c\"]\n",
    "new_length = compress(chars)\n",
    "compressed_chars = chars[:new_length]\n",
    "print(new_length)\n",
    "print(compressed_chars)"
   ]
  },
  {
   "cell_type": "code",
   "execution_count": null,
   "id": "c41bde27-2bf6-49c9-93dd-129decdb8c98",
   "metadata": {},
   "outputs": [],
   "source": [
    "def find_anagrams(s, p):\n",
    "    result = []\n",
    "    p_freq = {}  # Frequency dictionary for string p\n",
    "    s_freq = {}  # Frequency dictionary for the sliding window in s\n",
    "\n",
    "    for char in p:\n",
    "        p_freq[char] = p_freq.get(char, 0) + 1\n",
    "\n",
    "    window_size = len(p)\n",
    "\n",
    "    # Initialize the sliding window frequency dictionary\n",
    "    for i in range(window_size):\n",
    "        s_freq[s[i]] = s_freq.get(s[i], 0) + 1\n",
    "\n",
    "    for i in range(len(s) - window_size + 1):\n",
    "        if s_freq == p_freq:\n",
    "            result.append(i)\n",
    "\n",
    "        # Update the sliding window frequency dictionary\n",
    "        if i + window_size < len(s):\n",
    "            s_freq[s[i]] -= 1\n",
    "            if s_freq[s[i]] == 0:\n",
    "                del s_freq[s[i]]\n",
    "            s_freq[s[i + window_size]] = s_freq.get(s[i + window_size], 0) + 1\n",
    "\n",
    "    return result\n",
    "s = \"cbaebabacd\"\n",
    "p = \"abc\"\n",
    "indices = find_anagrams(s, p)\n",
    "print(indices)"
   ]
  }
 ],
 "metadata": {
  "kernelspec": {
   "display_name": "Python 3 (ipykernel)",
   "language": "python",
   "name": "python3"
  },
  "language_info": {
   "codemirror_mode": {
    "name": "ipython",
    "version": 3
   },
   "file_extension": ".py",
   "mimetype": "text/x-python",
   "name": "python",
   "nbconvert_exporter": "python",
   "pygments_lexer": "ipython3",
   "version": "3.10.8"
  }
 },
 "nbformat": 4,
 "nbformat_minor": 5
}
