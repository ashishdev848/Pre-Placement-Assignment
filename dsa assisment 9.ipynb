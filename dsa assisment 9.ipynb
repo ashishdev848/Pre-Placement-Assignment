{
 "cells": [
  {
   "cell_type": "code",
   "execution_count": 1,
   "id": "08896c95",
   "metadata": {},
   "outputs": [
    {
     "name": "stdout",
     "output_type": "stream",
     "text": [
      "[1, 2]\n"
     ]
    }
   ],
   "source": [
    "#1\n",
    "def twoSum(numbers, target):\n",
    "    index1 = 0\n",
    "    index2 = len(numbers) - 1\n",
    "\n",
    "    while index1 < index2:\n",
    "        current_sum = numbers[index1] + numbers[index2]\n",
    "\n",
    "        if current_sum == target:\n",
    "            return [index1 + 1, index2 + 1]  # indices are 1-indexed\n",
    "        elif current_sum < target:\n",
    "            index1 += 1\n",
    "        else:\n",
    "            index2 -= 1\n",
    "\n",
    "    return []  # no solution found\n",
    "\n",
    "# Test case\n",
    "numbers = [2, 7, 11, 15]\n",
    "target = 9\n",
    "result = twoSum(numbers, target)\n",
    "print(result)  # Output: [1, 2]\n"
   ]
  },
  {
   "cell_type": "code",
   "execution_count": 2,
   "id": "5baaf151",
   "metadata": {},
   "outputs": [
    {
     "name": "stdout",
     "output_type": "stream",
     "text": [
      "[3, 4]\n"
     ]
    }
   ],
   "source": [
    "#2\n",
    "def searchRange(nums, target):\n",
    "    left = None\n",
    "    right = None\n",
    "\n",
    "    # Find the leftmost occurrence of the target\n",
    "    low = 0\n",
    "    high = len(nums) - 1\n",
    "\n",
    "    while low <= high:\n",
    "        mid = (low + high) // 2\n",
    "\n",
    "        if nums[mid] == target:\n",
    "            left = mid\n",
    "            high = mid - 1\n",
    "        elif nums[mid] < target:\n",
    "            low = mid + 1\n",
    "        else:\n",
    "            high = mid - 1\n",
    "\n",
    "    # Find the rightmost occurrence of the target\n",
    "    low = 0\n",
    "    high = len(nums) - 1\n",
    "\n",
    "    while low <= high:\n",
    "        mid = (low + high) // 2\n",
    "\n",
    "        if nums[mid] == target:\n",
    "            right = mid\n",
    "            low = mid + 1\n",
    "        elif nums[mid] < target:\n",
    "            low = mid + 1\n",
    "        else:\n",
    "            high = mid - 1\n",
    "\n",
    "    return [left, right] if left is not None and right is not None else [-1, -1]\n",
    "\n",
    "# Test case\n",
    "nums = [5, 7, 7, 8, 8, 10]\n",
    "target = 8\n",
    "result = searchRange(nums, target)\n",
    "print(result)  # Output: [3, 4]\n"
   ]
  },
  {
   "cell_type": "code",
   "execution_count": 3,
   "id": "921afe5c",
   "metadata": {},
   "outputs": [
    {
     "name": "stdout",
     "output_type": "stream",
     "text": [
      "2\n"
     ]
    }
   ],
   "source": [
    "#3\n",
    "def findPeakElement(nums):\n",
    "    low = 0\n",
    "    high = len(nums) - 1\n",
    "\n",
    "    while low < high:\n",
    "        mid = (low + high) // 2\n",
    "\n",
    "        if nums[mid] > nums[mid + 1]:\n",
    "            high = mid\n",
    "        else:\n",
    "            low = mid + 1\n",
    "\n",
    "    return low\n",
    "\n",
    "# Test case\n",
    "nums = [1, 2, 3, 1]\n",
    "result = findPeakElement(nums)\n",
    "print(result)  # Output: 2\n"
   ]
  },
  {
   "cell_type": "code",
   "execution_count": 4,
   "id": "e1e2b9fd",
   "metadata": {},
   "outputs": [
    {
     "name": "stdout",
     "output_type": "stream",
     "text": [
      "2\n",
      "4\n"
     ]
    }
   ],
   "source": [
    "#4\n",
    "def searchInsert(nums, target):\n",
    "    low = 0\n",
    "    high = len(nums) - 1\n",
    "\n",
    "    while low <= high:\n",
    "        mid = (low + high) // 2\n",
    "\n",
    "        if nums[mid] == target:\n",
    "            return mid\n",
    "\n",
    "        if nums[mid] < target:\n",
    "            low = mid + 1\n",
    "        else:\n",
    "            high = mid - 1\n",
    "\n",
    "    return low\n",
    "\n",
    "# Test cases\n",
    "nums = [1, 3, 5, 6]\n",
    "target = 5\n",
    "result = searchInsert(nums, target)\n",
    "print(result)  # Output: 2\n",
    "\n",
    "target = 7\n",
    "result = searchInsert(nums, target)\n",
    "print(result)  # Output: 4\n"
   ]
  },
  {
   "cell_type": "code",
   "execution_count": 5,
   "id": "f7c50277",
   "metadata": {},
   "outputs": [
    {
     "name": "stdout",
     "output_type": "stream",
     "text": [
      "4\n"
     ]
    }
   ],
   "source": [
    "#5\n",
    "def majorityElement(nums):\n",
    "    candidate = None\n",
    "    count = 0\n",
    "\n",
    "    # Finding the potential candidate\n",
    "    for num in nums:\n",
    "        if count == 0:\n",
    "            candidate = num\n",
    "        if num == candidate:\n",
    "            count += 1\n",
    "        else:\n",
    "            count -= 1\n",
    "\n",
    "    # Counting the occurrences of the candidate\n",
    "    frequency = 0\n",
    "    for num in nums:\n",
    "        if num == candidate:\n",
    "            frequency += 1\n",
    "\n",
    "    if frequency > len(nums) // 2:\n",
    "        return candidate\n",
    "    else:\n",
    "        return None\n",
    "\n",
    "# Test case\n",
    "nums = [3, 3, 4, 2, 4, 4, 2, 4, 4]\n",
    "result = majorityElement(nums)\n",
    "print(result)  # Output: 4\n"
   ]
  },
  {
   "cell_type": "code",
   "execution_count": 6,
   "id": "792fde50",
   "metadata": {},
   "outputs": [
    {
     "ename": "NameError",
     "evalue": "name 'isBadVersion' is not defined",
     "output_type": "error",
     "traceback": [
      "\u001b[1;31m---------------------------------------------------------------------------\u001b[0m",
      "\u001b[1;31mNameError\u001b[0m                                 Traceback (most recent call last)",
      "Cell \u001b[1;32mIn[6], line 19\u001b[0m\n\u001b[0;32m     17\u001b[0m n \u001b[38;5;241m=\u001b[39m \u001b[38;5;241m5\u001b[39m\n\u001b[0;32m     18\u001b[0m bad \u001b[38;5;241m=\u001b[39m \u001b[38;5;241m4\u001b[39m\n\u001b[1;32m---> 19\u001b[0m result \u001b[38;5;241m=\u001b[39m \u001b[43mfirstBadVersion\u001b[49m\u001b[43m(\u001b[49m\u001b[43mn\u001b[49m\u001b[43m)\u001b[49m\n\u001b[0;32m     20\u001b[0m \u001b[38;5;28mprint\u001b[39m(result)\n",
      "Cell \u001b[1;32mIn[6], line 9\u001b[0m, in \u001b[0;36mfirstBadVersion\u001b[1;34m(n)\u001b[0m\n\u001b[0;32m      6\u001b[0m \u001b[38;5;28;01mwhile\u001b[39;00m low \u001b[38;5;241m<\u001b[39m high:\n\u001b[0;32m      7\u001b[0m     mid \u001b[38;5;241m=\u001b[39m (low \u001b[38;5;241m+\u001b[39m high) \u001b[38;5;241m/\u001b[39m\u001b[38;5;241m/\u001b[39m \u001b[38;5;241m2\u001b[39m\n\u001b[1;32m----> 9\u001b[0m     \u001b[38;5;28;01mif\u001b[39;00m \u001b[43misBadVersion\u001b[49m(mid):\n\u001b[0;32m     10\u001b[0m         high \u001b[38;5;241m=\u001b[39m mid\n\u001b[0;32m     11\u001b[0m     \u001b[38;5;28;01melse\u001b[39;00m:\n",
      "\u001b[1;31mNameError\u001b[0m: name 'isBadVersion' is not defined"
     ]
    }
   ],
   "source": [
    "#6\n",
    "def firstBadVersion(n):\n",
    "    low = 1\n",
    "    high = n\n",
    "\n",
    "    while low < high:\n",
    "        mid = (low + high) // 2\n",
    "\n",
    "        if isBadVersion(mid):\n",
    "            high = mid\n",
    "        else:\n",
    "            low = mid + 1\n",
    "\n",
    "    return low\n",
    "\n",
    "# Example usage of the function\n",
    "n = 5\n",
    "bad = 4\n",
    "result = firstBadVersion(n)\n",
    "print(result)  # Output: 4\n"
   ]
  },
  {
   "cell_type": "code",
   "execution_count": 7,
   "id": "6a43afdc",
   "metadata": {},
   "outputs": [
    {
     "name": "stdout",
     "output_type": "stream",
     "text": [
      "3\n"
     ]
    }
   ],
   "source": [
    "#7\n",
    "def mergeSortAndCount(arr):\n",
    "    if len(arr) <= 1:\n",
    "        return 0\n",
    "\n",
    "    mid = len(arr) // 2\n",
    "    left = arr[:mid]\n",
    "    right = arr[mid:]\n",
    "\n",
    "    count = mergeSortAndCount(left) + mergeSortAndCount(right)\n",
    "\n",
    "    i = j = k = 0\n",
    "    while i < len(left) and j < len(right):\n",
    "        if left[i] > right[j]:\n",
    "            count += len(left) - i\n",
    "            arr[k] = right[j]\n",
    "            j += 1\n",
    "        else:\n",
    "            arr[k] = left[i]\n",
    "            i += 1\n",
    "        k += 1\n",
    "\n",
    "    while i < len(left):\n",
    "        arr[k] = left[i]\n",
    "        i += 1\n",
    "        k += 1\n",
    "\n",
    "    while j < len(right):\n",
    "        arr[k] = right[j]\n",
    "        j += 1\n",
    "        k += 1\n",
    "\n",
    "    return count\n",
    "\n",
    "# Example usage of the function\n",
    "arr = [2, 4, 1, 3, 5]\n",
    "result = mergeSortAndCount(arr)\n",
    "print(result)  # Output: 3\n"
   ]
  },
  {
   "cell_type": "code",
   "execution_count": null,
   "id": "182409b4",
   "metadata": {},
   "outputs": [],
   "source": [
    "#8\n",
    "def findCommonElements(ar1, ar2, ar3):\n",
    "    p1 = p2 = p3 = 0\n",
    "\n",
    "    while p1 < len(ar1) and p2 < len(ar2) and p3 < len(ar3):\n",
    "        if ar1[p1] == ar2[p2] == ar3[p3]:\n",
    "            print(ar1[p1])\n",
    "            p1 += 1\n",
    "            p2 += 1\n",
    "            p3 += 1\n",
    "        elif ar1[p1] <= max(ar2[p2], ar3[p3]):\n",
    "            p1 += 1\n",
    "        elif ar2[p2] <= max(ar1[p1], ar3[p3]):\n",
    "            p2 += 1\n",
    "        elif ar3[p3] <= max(ar1[p1], ar2[p2]):\n",
    "            p3 += 1\n",
    "\n",
    "# Example usage of the function\n",
    "ar1 = [1, 5, 10, 20, 40, 80]\n",
    "ar2 = [6, 7, 20, 80, 100]\n",
    "ar3 = [3, 4, 15, 20, 30, 70, 80, 120]\n",
    "findCommonElements(ar1, ar2, ar3)\n"
   ]
  }
 ],
 "metadata": {
  "kernelspec": {
   "display_name": "Python 3 (ipykernel)",
   "language": "python",
   "name": "python3"
  },
  "language_info": {
   "codemirror_mode": {
    "name": "ipython",
    "version": 3
   },
   "file_extension": ".py",
   "mimetype": "text/x-python",
   "name": "python",
   "nbconvert_exporter": "python",
   "pygments_lexer": "ipython3",
   "version": "3.10.9"
  }
 },
 "nbformat": 4,
 "nbformat_minor": 5
}
