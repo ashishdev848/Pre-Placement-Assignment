{
 "cells": [
  {
   "cell_type": "markdown",
   "id": "c56fec4b-82a5-44cb-80ac-4a7978a287fa",
   "metadata": {},
   "source": [
    "## Que-1->"
   ]
  },
  {
   "cell_type": "code",
   "execution_count": 1,
   "id": "0d209fe4-5daf-4728-89db-90b604b93da0",
   "metadata": {},
   "outputs": [
    {
     "name": "stdout",
     "output_type": "stream",
     "text": [
      "Maximum sum: 4\n",
      "Time Complexity is=O(N)\n",
      "Space Complixity is =O(1)\n"
     ]
    }
   ],
   "source": [
    "def arrayPairSum(nums):\n",
    "    nums.sort() #we short because the even index num represent minimum value in each pair\n",
    "    sum = 0\n",
    "    for i in range(0, len(nums), 2):\n",
    "        sum += nums[i]\n",
    "    return sum\n",
    "\n",
    "nums = [1, 4, 3, 2]\n",
    "maxSum = arrayPairSum(nums)\n",
    "print(\"Maximum sum:\", maxSum)\n",
    "print(\"Time Complexity is=O(N)\")\n",
    "print(\"Space Complixity is =O(1)\")"
   ]
  },
  {
   "cell_type": "markdown",
   "id": "1e05da36-54e1-499f-8530-9ad750dcd792",
   "metadata": {},
   "source": [
    "## Que-2->"
   ]
  },
  {
   "cell_type": "code",
   "execution_count": 2,
   "id": "2b468591-3a96-4730-a997-ace49dfa4218",
   "metadata": {},
   "outputs": [
    {
     "name": "stdout",
     "output_type": "stream",
     "text": [
      "Maximum number of different types of candies Alice eat: 3\n"
     ]
    }
   ],
   "source": [
    "def max_candies(candy_type):\n",
    "    unique_candies = set()\n",
    "    max_allowed = len(candy_type) // 2\n",
    "\n",
    "    for candy in candy_type:\n",
    "        unique_candies.add(candy)\n",
    "        if len(unique_candies) == max_allowed:\n",
    "            break\n",
    "\n",
    "    return len(unique_candies)\n",
    "\n",
    "candy_type = [1, 1, 2, 2, 3, 3]\n",
    "max_types = max_candies(candy_type)\n",
    "print(\"Maximum number of different types of candies Alice eat:\", max_types)"
   ]
  },
  {
   "cell_type": "markdown",
   "id": "7ac83224-62d5-4371-81e3-48c883202f97",
   "metadata": {},
   "source": [
    "## Que-3->"
   ]
  },
  {
   "cell_type": "code",
   "execution_count": 3,
   "id": "56ea9894-eaad-44f1-8fa2-c0fd98618eef",
   "metadata": {},
   "outputs": [
    {
     "name": "stdout",
     "output_type": "stream",
     "text": [
      "the longest harmonious subsequence length is: 5\n"
     ]
    }
   ],
   "source": [
    "def findLHS(nums):\n",
    "    count = {}\n",
    "    longest_seq = 0\n",
    "    \n",
    "    for num in nums:\n",
    "        count[num] = count.get(num, 0) + 1\n",
    "    \n",
    "    for num in count:\n",
    "        if num + 1 in count:\n",
    "            longest_seq = max(longest_seq, count[num] + count[num + 1])\n",
    "    \n",
    "    return longest_seq\n",
    "\n",
    "nums = [1, 3, 2, 2, 5, 2, 3, 7]\n",
    "longest_subsequence = findLHS(nums)\n",
    "print(\"the longest harmonious subsequence length is:\", longest_subsequence)"
   ]
  },
  {
   "cell_type": "markdown",
   "id": "24d19b3a-116f-46f8-8ae6-564fbd7099f1",
   "metadata": {},
   "source": [
    "## Que-4->"
   ]
  },
  {
   "cell_type": "code",
   "execution_count": 4,
   "id": "dc0b77e3-d339-4092-8681-7811a5e0cec5",
   "metadata": {},
   "outputs": [
    {
     "name": "stdout",
     "output_type": "stream",
     "text": [
      "True\n"
     ]
    }
   ],
   "source": [
    "def canPlaceFlowers(flowerbed, n):\n",
    "    count = 0\n",
    "    size = len(flowerbed)\n",
    "    i = 0\n",
    "\n",
    "    while i < size:\n",
    "        if flowerbed[i] == 0 and (i == 0 or flowerbed[i-1] == 0) and (i == size-1 or flowerbed[i+1] == 0):\n",
    "            count += 1\n",
    "            i += 2\n",
    "        else:\n",
    "            i += 1\n",
    "\n",
    "    return count >= n\n",
    "\n",
    "flowerbed = [1, 0, 0, 0, 1]\n",
    "n = 1\n",
    "result = canPlaceFlowers(flowerbed, n)\n",
    "print(result)"
   ]
  },
  {
   "cell_type": "markdown",
   "id": "46eb2ed9-cb9e-4d78-9ecf-9d119f6e32d3",
   "metadata": {},
   "source": [
    "## Que-5->"
   ]
  },
  {
   "cell_type": "code",
   "execution_count": 5,
   "id": "39951e78-4534-4f7f-928e-d274259942b8",
   "metadata": {},
   "outputs": [
    {
     "name": "stdout",
     "output_type": "stream",
     "text": [
      "6\n",
      "time complexity is = n( log n)\n",
      "space complexity is=o(1)\n"
     ]
    }
   ],
   "source": [
    "def maximumProduct(nums):\n",
    "    nums.sort()\n",
    "    n = len(nums)\n",
    "    max_product = nums[n-1] * nums[n-2] * nums[n-3]\n",
    "    alt_product = nums[0] * nums[1] * nums[n-1]\n",
    "    return max(max_product, alt_product)\n",
    "\n",
    "nums = [1, 2, 3]\n",
    "result = maximumProduct(nums)\n",
    "print(result)\n",
    "print(\"time complexity is = n( log n)\")\n",
    "print(\"space complexity is=o(1)\")"
   ]
  },
  {
   "cell_type": "markdown",
   "id": "574a7de2-8f38-4077-a1fa-6cd14aaca083",
   "metadata": {},
   "source": [
    "## Que-6->"
   ]
  },
  {
   "cell_type": "code",
   "execution_count": 6,
   "id": "0a2be414-ff52-4201-b8a4-a7f7a5beaf23",
   "metadata": {},
   "outputs": [
    {
     "name": "stdout",
     "output_type": "stream",
     "text": [
      "4\n"
     ]
    }
   ],
   "source": [
    "def find(nums, target):\n",
    "    left = 0\n",
    "    right = len(nums) - 1\n",
    "\n",
    "    while left <= right:\n",
    "        mid = (left + right) // 2\n",
    "\n",
    "        if nums[mid] == target:\n",
    "            return mid\n",
    "        elif nums[mid] > target:\n",
    "            right = mid - 1\n",
    "        else:\n",
    "            left = mid + 1\n",
    "\n",
    "    return -1\n",
    "\n",
    "nums = [-1, 0, 3, 5, 9, 12]\n",
    "target = 9\n",
    "result = find(nums, target)\n",
    "print(result)"
   ]
  },
  {
   "cell_type": "markdown",
   "id": "4f7bd1c4-9f58-485c-b4da-5ef9a9514d49",
   "metadata": {},
   "source": [
    "## Que-7->"
   ]
  },
  {
   "cell_type": "code",
   "execution_count": 7,
   "id": "8f55c610-651e-47df-8df2-be57facd5973",
   "metadata": {},
   "outputs": [
    {
     "name": "stdout",
     "output_type": "stream",
     "text": [
      "True\n"
     ]
    }
   ],
   "source": [
    "\n",
    "def isMonotonic(nums):\n",
    "    increasing = decreasing = True\n",
    "\n",
    "    for i in range(1, len(nums)):\n",
    "        if nums[i] < nums[i - 1]:\n",
    "            increasing = False\n",
    "        if nums[i] > nums[i - 1]:\n",
    "            decreasing = False\n",
    "\n",
    "    return increasing or decreasing\n",
    "\n",
    "nums = [1, 2, 2, 3]\n",
    "result = isMonotonic(nums)\n",
    "print(result)"
   ]
  },
  {
   "cell_type": "markdown",
   "id": "8367568c-9607-4174-ab0f-2d9b4ef49819",
   "metadata": {},
   "source": [
    "## Que-8->"
   ]
  },
  {
   "cell_type": "code",
   "execution_count": 8,
   "id": "3307fc66-1697-459d-ad31-3dbc9d7e1156",
   "metadata": {},
   "outputs": [
    {
     "name": "stdout",
     "output_type": "stream",
     "text": [
      "0\n"
     ]
    },
    {
     "data": {
      "text/plain": [
       "0"
      ]
     },
     "execution_count": 8,
     "metadata": {},
     "output_type": "execute_result"
    }
   ],
   "source": [
    "def minDifference(nums, k):\n",
    "    n = len(nums)\n",
    "    if n <= 1:\n",
    "        return 0\n",
    "\n",
    "    nums.sort()\n",
    "\n",
    "    minScore = nums[-1] - nums[0]\n",
    "\n",
    "    for i in range(n-1):\n",
    "        small = min(nums[0] + k, nums[i+1] - k)\n",
    "        large = max(nums[i] + k, nums[-1] - k)\n",
    "        minScore = min(minScore, large - small)\n",
    "\n",
    "    return minScore\n",
    "\n",
    "nums = [1]\n",
    "k = 0\n",
    "result = minDifference(nums, k)\n",
    "print(result)\n",
    "0"
   ]
  },
  {
   "cell_type": "code",
   "execution_count": null,
   "id": "3d397853-0dec-4a3d-a0a2-6d272fdba6de",
   "metadata": {},
   "outputs": [],
   "source": []
  }
 ],
 "metadata": {
  "kernelspec": {
   "display_name": "Python 3 (ipykernel)",
   "language": "python",
   "name": "python3"
  },
  "language_info": {
   "codemirror_mode": {
    "name": "ipython",
    "version": 3
   },
   "file_extension": ".py",
   "mimetype": "text/x-python",
   "name": "python",
   "nbconvert_exporter": "python",
   "pygments_lexer": "ipython3",
   "version": "3.10.8"
  }
 },
 "nbformat": 4,
 "nbformat_minor": 5
}
